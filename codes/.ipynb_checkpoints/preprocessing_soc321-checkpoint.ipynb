{
 "cells": [
  {
   "cell_type": "code",
   "execution_count": null,
   "metadata": {
    "lines_to_next_cell": 2
   },
   "outputs": [],
   "source": [
    "import numpy as np\n",
    "import os\n",
    "import csv\n",
    "import glob\n",
    "import time"
   ]
  },
  {
   "cell_type": "code",
   "execution_count": null,
   "metadata": {
    "lines_to_next_cell": 2
   },
   "outputs": [],
   "source": [
    "preprocessed_name = \"soc321\"\n",
    "\n",
    "# input_dir and out_dir\n",
    "input_dir_path = \"../rawdatas/*/*.csv\"\n",
    "input_dir = glob.glob(input_dir_path)\n",
    "out_dir_path = \"../preprocessed/train_\"+preprocessed_name"
   ]
  },
  {
   "cell_type": "code",
   "execution_count": null,
   "metadata": {
    "lines_to_next_cell": 2
   },
   "outputs": [],
   "source": [
    "start_time = time.time()\n",
    "for d in input_dir:\n",
    "    print(d)\n",
    "    if \".DS_Store\" in d:\n",
    "        os.remove(d)\n",
    "        input_dir.remove(d)\n",
    "        continue\n",
    "    \n",
    "    end_index = d.rfind('/')\n",
    "    os.makedirs(out_dir_path+'/'+d[12:end_index], exist_ok=True)\n",
    "        \n",
    "    data = np.loadtxt(d, delimiter=\",\")\n",
    "    \n",
    "    axis_time = np.vstack(data[:,0])\n",
    "    axis_x = np.vstack(data[:, 1])\n",
    "    axis_y = np.vstack(data[:, 2])\n",
    "    axis_z = np.vstack(data[:, 3])\n",
    "\n",
    "    calc = axis_x + axis_y + axis_z\n",
    "    \n",
    "    preprocessed = np.hstack([axis_time,calc])\n",
    "    np.savetxt(out_dir_path+'/'+d[12:-4]+'_'+preprocessed_name+'.csv', preprocessed, delimiter=',')\n",
    "    \n",
    "end_time = time.time()-start_time\n",
    "\n",
    "f = open(out_dir_path+'/'+d[12:-4]+'_'+preprocessed_name+'_processtime.txt','w')\n",
    "f.write(str(end_time))\n",
    "f.close()"
   ]
  }
 ],
 "metadata": {
  "jupytext": {
   "cell_metadata_filter": "-all",
   "encoding": "# coding: utf-8",
   "executable": "/usr/bin/env python",
   "main_language": "python",
   "notebook_metadata_filter": "-all",
   "text_representation": {
    "extension": ".py",
    "format_name": "percent"
   }
  },
  "kernelspec": {
   "display_name": "Python 3",
   "language": "python",
   "name": "python3"
  },
  "language_info": {
   "codemirror_mode": {
    "name": "ipython",
    "version": 3
   },
   "file_extension": ".py",
   "mimetype": "text/x-python",
   "name": "python",
   "nbconvert_exporter": "python",
   "pygments_lexer": "ipython3",
   "version": "3.6.9"
  }
 },
 "nbformat": 4,
 "nbformat_minor": 4
}
